{
 "cells": [
  {
   "cell_type": "markdown",
   "metadata": {},
   "source": [
    "## **Carga y Tranformación de los datos**"
   ]
  },
  {
   "cell_type": "markdown",
   "metadata": {},
   "source": [
    "Este notebook muestra el proceso de carga y transformación de los datos brindados por Stay Unique para la prueba técnica."
   ]
  },
  {
   "cell_type": "markdown",
   "metadata": {},
   "source": [
    "**Librerias necesarias:**"
   ]
  },
  {
   "cell_type": "code",
   "execution_count": 1,
   "metadata": {},
   "outputs": [],
   "source": [
    "#importamos las librerias necesarias\n",
    "import pandas as pd\n",
    "import numpy as np\n",
    "import matplotlib.pyplot as plt\n",
    "import seaborn as sns"
   ]
  },
  {
   "cell_type": "markdown",
   "metadata": {},
   "source": [
    "**Carga de Archivos**\n",
    "- Se brindaron 3 archivos en excel: Calendar, Properties y Bookings. \n",
    "- Los archivos se encuentran en formato Excel y divididos por pestañas"
   ]
  },
  {
   "cell_type": "code",
   "execution_count": 4,
   "metadata": {},
   "outputs": [],
   "source": [
    "#Calendario\n",
    "calendar_df = pd.read_excel(\"Datasets\\data.xlsx\", sheet_name=\"Calendar\")\n",
    "#Propiedades\n",
    "properties_df = pd.read_excel(\"Datasets\\data.xlsx\", sheet_name=\"Properties\")\n",
    "#Reservas\n",
    "booking_df =  pd.read_excel(\"Datasets\\data.xlsx\", sheet_name=\"Bookings\")"
   ]
  },
  {
   "cell_type": "markdown",
   "metadata": {},
   "source": [
    "### **Transformaciones de Calendar**"
   ]
  },
  {
   "cell_type": "code",
   "execution_count": 5,
   "metadata": {},
   "outputs": [
    {
     "name": "stdout",
     "output_type": "stream",
     "text": [
      "<class 'pandas.core.frame.DataFrame'>\n",
      "RangeIndex: 38893 entries, 0 to 38892\n",
      "Data columns (total 4 columns):\n",
      " #   Column              Non-Null Count  Dtype         \n",
      "---  ------              --------------  -----         \n",
      " 0   PropertyId          38893 non-null  int64         \n",
      " 1   CalendarDate        38893 non-null  datetime64[ns]\n",
      " 2   Blocked             38893 non-null  int64         \n",
      " 3   Property_BookingId  31168 non-null  float64       \n",
      "dtypes: datetime64[ns](1), float64(1), int64(2)\n",
      "memory usage: 1.2 MB\n"
     ]
    }
   ],
   "source": [
    "#Información de df Calendar:\n",
    "calendar_df.info()"
   ]
  },
  {
   "cell_type": "markdown",
   "metadata": {},
   "source": [
    "- El dataframe contiene 4 columnas. \n",
    "Los tipos de datos de las columnas estan asignados correctamente, incluyendo el formato fecha de la columna CalendarDate. \n",
    "- Existen 38893 registros. \n",
    "- La columna Property_BookingId tiene datos nulos, se explorarán para determinar como trabajarlos."
   ]
  },
  {
   "cell_type": "code",
   "execution_count": 6,
   "metadata": {},
   "outputs": [
    {
     "data": {
      "text/html": [
       "<div>\n",
       "<style scoped>\n",
       "    .dataframe tbody tr th:only-of-type {\n",
       "        vertical-align: middle;\n",
       "    }\n",
       "\n",
       "    .dataframe tbody tr th {\n",
       "        vertical-align: top;\n",
       "    }\n",
       "\n",
       "    .dataframe thead th {\n",
       "        text-align: right;\n",
       "    }\n",
       "</style>\n",
       "<table border=\"1\" class=\"dataframe\">\n",
       "  <thead>\n",
       "    <tr style=\"text-align: right;\">\n",
       "      <th></th>\n",
       "      <th>PropertyId</th>\n",
       "      <th>CalendarDate</th>\n",
       "      <th>Blocked</th>\n",
       "      <th>Property_BookingId</th>\n",
       "    </tr>\n",
       "  </thead>\n",
       "  <tbody>\n",
       "    <tr>\n",
       "      <th>14838</th>\n",
       "      <td>43036</td>\n",
       "      <td>2022-07-22</td>\n",
       "      <td>2</td>\n",
       "      <td>103891.0</td>\n",
       "    </tr>\n",
       "    <tr>\n",
       "      <th>16683</th>\n",
       "      <td>43050</td>\n",
       "      <td>2022-07-27</td>\n",
       "      <td>2</td>\n",
       "      <td>103852.0</td>\n",
       "    </tr>\n",
       "    <tr>\n",
       "      <th>28580</th>\n",
       "      <td>43223</td>\n",
       "      <td>2022-11-29</td>\n",
       "      <td>2</td>\n",
       "      <td>110104.0</td>\n",
       "    </tr>\n",
       "    <tr>\n",
       "      <th>3059</th>\n",
       "      <td>4138</td>\n",
       "      <td>2022-07-19</td>\n",
       "      <td>2</td>\n",
       "      <td>103862.0</td>\n",
       "    </tr>\n",
       "    <tr>\n",
       "      <th>24688</th>\n",
       "      <td>43166</td>\n",
       "      <td>2022-11-01</td>\n",
       "      <td>2</td>\n",
       "      <td>109048.0</td>\n",
       "    </tr>\n",
       "    <tr>\n",
       "      <th>24588</th>\n",
       "      <td>43166</td>\n",
       "      <td>2022-07-24</td>\n",
       "      <td>0</td>\n",
       "      <td>NaN</td>\n",
       "    </tr>\n",
       "    <tr>\n",
       "      <th>25302</th>\n",
       "      <td>43170</td>\n",
       "      <td>2022-07-02</td>\n",
       "      <td>2</td>\n",
       "      <td>102751.0</td>\n",
       "    </tr>\n",
       "    <tr>\n",
       "      <th>38190</th>\n",
       "      <td>43366</td>\n",
       "      <td>2022-11-30</td>\n",
       "      <td>1</td>\n",
       "      <td>NaN</td>\n",
       "    </tr>\n",
       "    <tr>\n",
       "      <th>10441</th>\n",
       "      <td>42935</td>\n",
       "      <td>2022-08-10</td>\n",
       "      <td>2</td>\n",
       "      <td>104251.0</td>\n",
       "    </tr>\n",
       "    <tr>\n",
       "      <th>25269</th>\n",
       "      <td>43169</td>\n",
       "      <td>2022-11-30</td>\n",
       "      <td>2</td>\n",
       "      <td>109847.0</td>\n",
       "    </tr>\n",
       "  </tbody>\n",
       "</table>\n",
       "</div>"
      ],
      "text/plain": [
       "       PropertyId CalendarDate  Blocked  Property_BookingId\n",
       "14838       43036   2022-07-22        2            103891.0\n",
       "16683       43050   2022-07-27        2            103852.0\n",
       "28580       43223   2022-11-29        2            110104.0\n",
       "3059         4138   2022-07-19        2            103862.0\n",
       "24688       43166   2022-11-01        2            109048.0\n",
       "24588       43166   2022-07-24        0                 NaN\n",
       "25302       43170   2022-07-02        2            102751.0\n",
       "38190       43366   2022-11-30        1                 NaN\n",
       "10441       42935   2022-08-10        2            104251.0\n",
       "25269       43169   2022-11-30        2            109847.0"
      ]
     },
     "execution_count": 6,
     "metadata": {},
     "output_type": "execute_result"
    }
   ],
   "source": [
    "calendar_df.sample(10)"
   ]
  },
  {
   "cell_type": "code",
   "execution_count": 7,
   "metadata": {},
   "outputs": [
    {
     "name": "stdout",
     "output_type": "stream",
     "text": [
      "\n",
      "Valores nulos de la tabla Calendar\n",
      "PropertyId               0\n",
      "CalendarDate             0\n",
      "Blocked                  0\n",
      "Property_BookingId    7725\n",
      "dtype: int64\n"
     ]
    }
   ],
   "source": [
    "# Contar valores nulos de la columna \n",
    "print(\"\\nValores nulos de la tabla Calendar\")\n",
    "print(calendar_df.isnull().sum())"
   ]
  },
  {
   "cell_type": "code",
   "execution_count": 8,
   "metadata": {},
   "outputs": [
    {
     "data": {
      "text/plain": [
       "0    6766\n",
       "1     959\n",
       "Name: Blocked, dtype: int64"
      ]
     },
     "execution_count": 8,
     "metadata": {},
     "output_type": "execute_result"
    }
   ],
   "source": [
    "# Mascara para tener unicamente los valores nulos\n",
    "null_booking = calendar_df[calendar_df['Property_BookingId'].isnull()]\n",
    "# Con el filtro hecho determinamos a que valores de la columna Blocked corresponden los nulos\n",
    "null_booking['Blocked'].value_counts()\n"
   ]
  },
  {
   "cell_type": "markdown",
   "metadata": {},
   "source": [
    "Se determina que los valores nulos en la columna Property_BookingId unicamente corresponden a los valores 0 y 1 de la columna Blocked. Que representan aquellas propiedades que estan No reservadas y Bloqueadas respectivamente. "
   ]
  },
  {
   "cell_type": "markdown",
   "metadata": {},
   "source": [
    "Por lo que se puede realizar la transformación de estos valores nulos a 0, debido a que representan propiedades que no tienen Id de reserva."
   ]
  },
  {
   "cell_type": "code",
   "execution_count": 9,
   "metadata": {},
   "outputs": [],
   "source": [
    "#Convertimos los valores nulos de la columna Property_BookingID a 0, que determinan que no tienen reserva\n",
    "calendar_df['Property_BookingId'].fillna(value= 0,inplace=True)"
   ]
  },
  {
   "cell_type": "code",
   "execution_count": 10,
   "metadata": {},
   "outputs": [
    {
     "name": "stdout",
     "output_type": "stream",
     "text": [
      "<class 'pandas.core.frame.DataFrame'>\n",
      "RangeIndex: 38893 entries, 0 to 38892\n",
      "Data columns (total 4 columns):\n",
      " #   Column              Non-Null Count  Dtype         \n",
      "---  ------              --------------  -----         \n",
      " 0   PropertyId          38893 non-null  int64         \n",
      " 1   CalendarDate        38893 non-null  datetime64[ns]\n",
      " 2   Blocked             38893 non-null  int64         \n",
      " 3   Property_BookingId  38893 non-null  float64       \n",
      "dtypes: datetime64[ns](1), float64(1), int64(2)\n",
      "memory usage: 1.2 MB\n"
     ]
    }
   ],
   "source": [
    "calendar_df.info()"
   ]
  },
  {
   "cell_type": "code",
   "execution_count": 11,
   "metadata": {},
   "outputs": [
    {
     "data": {
      "text/html": [
       "<div>\n",
       "<style scoped>\n",
       "    .dataframe tbody tr th:only-of-type {\n",
       "        vertical-align: middle;\n",
       "    }\n",
       "\n",
       "    .dataframe tbody tr th {\n",
       "        vertical-align: top;\n",
       "    }\n",
       "\n",
       "    .dataframe thead th {\n",
       "        text-align: right;\n",
       "    }\n",
       "</style>\n",
       "<table border=\"1\" class=\"dataframe\">\n",
       "  <thead>\n",
       "    <tr style=\"text-align: right;\">\n",
       "      <th></th>\n",
       "      <th>PropertyId</th>\n",
       "      <th>CalendarDate</th>\n",
       "      <th>Blocked</th>\n",
       "      <th>Property_BookingId</th>\n",
       "    </tr>\n",
       "  </thead>\n",
       "  <tbody>\n",
       "    <tr>\n",
       "      <th>26941</th>\n",
       "      <td>43194</td>\n",
       "      <td>2022-12-16</td>\n",
       "      <td>0</td>\n",
       "      <td>0.0</td>\n",
       "    </tr>\n",
       "    <tr>\n",
       "      <th>23741</th>\n",
       "      <td>43158</td>\n",
       "      <td>2022-10-05</td>\n",
       "      <td>2</td>\n",
       "      <td>107921.0</td>\n",
       "    </tr>\n",
       "    <tr>\n",
       "      <th>15906</th>\n",
       "      <td>43043</td>\n",
       "      <td>2022-12-17</td>\n",
       "      <td>2</td>\n",
       "      <td>111083.0</td>\n",
       "    </tr>\n",
       "    <tr>\n",
       "      <th>34425</th>\n",
       "      <td>43313</td>\n",
       "      <td>2022-11-04</td>\n",
       "      <td>2</td>\n",
       "      <td>108846.0</td>\n",
       "    </tr>\n",
       "    <tr>\n",
       "      <th>5333</th>\n",
       "      <td>4952</td>\n",
       "      <td>2022-09-23</td>\n",
       "      <td>2</td>\n",
       "      <td>108430.0</td>\n",
       "    </tr>\n",
       "  </tbody>\n",
       "</table>\n",
       "</div>"
      ],
      "text/plain": [
       "       PropertyId CalendarDate  Blocked  Property_BookingId\n",
       "26941       43194   2022-12-16        0                 0.0\n",
       "23741       43158   2022-10-05        2            107921.0\n",
       "15906       43043   2022-12-17        2            111083.0\n",
       "34425       43313   2022-11-04        2            108846.0\n",
       "5333         4952   2022-09-23        2            108430.0"
      ]
     },
     "execution_count": 11,
     "metadata": {},
     "output_type": "execute_result"
    }
   ],
   "source": [
    "calendar_df.sample(5)"
   ]
  },
  {
   "cell_type": "markdown",
   "metadata": {},
   "source": [
    "No es necesaria ninguna otra transformación"
   ]
  },
  {
   "cell_type": "markdown",
   "metadata": {},
   "source": [
    "### **Transformaciones de Tabla Properties**"
   ]
  },
  {
   "cell_type": "code",
   "execution_count": 12,
   "metadata": {},
   "outputs": [
    {
     "name": "stdout",
     "output_type": "stream",
     "text": [
      "<class 'pandas.core.frame.DataFrame'>\n",
      "RangeIndex: 323 entries, 0 to 322\n",
      "Data columns (total 2 columns):\n",
      " #   Column      Non-Null Count  Dtype\n",
      "---  ------      --------------  -----\n",
      " 0   PropertyId  323 non-null    int64\n",
      " 1   PR_Sleeps   323 non-null    int64\n",
      "dtypes: int64(2)\n",
      "memory usage: 5.2 KB\n"
     ]
    }
   ],
   "source": [
    "# Leemos el la tabla\n",
    "properties_df.info()"
   ]
  },
  {
   "cell_type": "code",
   "execution_count": 13,
   "metadata": {},
   "outputs": [
    {
     "data": {
      "text/html": [
       "<div>\n",
       "<style scoped>\n",
       "    .dataframe tbody tr th:only-of-type {\n",
       "        vertical-align: middle;\n",
       "    }\n",
       "\n",
       "    .dataframe tbody tr th {\n",
       "        vertical-align: top;\n",
       "    }\n",
       "\n",
       "    .dataframe thead th {\n",
       "        text-align: right;\n",
       "    }\n",
       "</style>\n",
       "<table border=\"1\" class=\"dataframe\">\n",
       "  <thead>\n",
       "    <tr style=\"text-align: right;\">\n",
       "      <th></th>\n",
       "      <th>PropertyId</th>\n",
       "      <th>PR_Sleeps</th>\n",
       "    </tr>\n",
       "  </thead>\n",
       "  <tbody>\n",
       "    <tr>\n",
       "      <th>186</th>\n",
       "      <td>43186</td>\n",
       "      <td>4</td>\n",
       "    </tr>\n",
       "    <tr>\n",
       "      <th>124</th>\n",
       "      <td>43075</td>\n",
       "      <td>5</td>\n",
       "    </tr>\n",
       "    <tr>\n",
       "      <th>20</th>\n",
       "      <td>43472</td>\n",
       "      <td>4</td>\n",
       "    </tr>\n",
       "    <tr>\n",
       "      <th>197</th>\n",
       "      <td>43214</td>\n",
       "      <td>6</td>\n",
       "    </tr>\n",
       "    <tr>\n",
       "      <th>73</th>\n",
       "      <td>42954</td>\n",
       "      <td>3</td>\n",
       "    </tr>\n",
       "  </tbody>\n",
       "</table>\n",
       "</div>"
      ],
      "text/plain": [
       "     PropertyId  PR_Sleeps\n",
       "186       43186          4\n",
       "124       43075          5\n",
       "20        43472          4\n",
       "197       43214          6\n",
       "73        42954          3"
      ]
     },
     "execution_count": 13,
     "metadata": {},
     "output_type": "execute_result"
    }
   ],
   "source": [
    "properties_df.sample(5)"
   ]
  },
  {
   "cell_type": "markdown",
   "metadata": {},
   "source": [
    "- Son 2 columnas, con 323 registros.\n",
    "- No existen valores nulos y el formato de los campos es adecuado. \n",
    "- Se revisarán duplicados."
   ]
  },
  {
   "cell_type": "code",
   "execution_count": 14,
   "metadata": {},
   "outputs": [
    {
     "name": "stdout",
     "output_type": "stream",
     "text": [
      "No hay filas duplicadas en la tabla Propiedades.\n"
     ]
    }
   ],
   "source": [
    "# Verificar duplicados en la tabla Propiedades\n",
    "duplicates_in_propiedades = properties_df[properties_df.duplicated(subset='PropertyId', keep=False)]\n",
    "\n",
    "# Imprimir las filas duplicadas (si existen)\n",
    "if not duplicates_in_propiedades.empty:\n",
    "    print(\"Filas duplicadas en la tabla Propiedades:\")\n",
    "    print(duplicates_in_propiedades)\n",
    "else:\n",
    "    print(\"No hay filas duplicadas en la tabla Propiedades.\")"
   ]
  },
  {
   "cell_type": "markdown",
   "metadata": {},
   "source": [
    "- No es necesaria ninguna transformación en la tabla"
   ]
  },
  {
   "cell_type": "markdown",
   "metadata": {},
   "source": [
    "### **Transformaciones de tabla Bookings(Reservas)**"
   ]
  },
  {
   "cell_type": "code",
   "execution_count": 15,
   "metadata": {},
   "outputs": [
    {
     "name": "stdout",
     "output_type": "stream",
     "text": [
      "<class 'pandas.core.frame.DataFrame'>\n",
      "RangeIndex: 6160 entries, 0 to 6159\n",
      "Data columns (total 5 columns):\n",
      " #   Column                     Non-Null Count  Dtype         \n",
      "---  ------                     --------------  -----         \n",
      " 0   Property_BookingId         6160 non-null   int64         \n",
      " 1   PB_TotalPrice              6160 non-null   float64       \n",
      " 2   PB_NumNights               6160 non-null   int64         \n",
      " 3   PB_BookingCreatedDate      6160 non-null   datetime64[ns]\n",
      " 4   PB_BookingChannelOriginId  6160 non-null   int64         \n",
      "dtypes: datetime64[ns](1), float64(1), int64(3)\n",
      "memory usage: 240.8 KB\n"
     ]
    }
   ],
   "source": [
    "#Info de tabla Booking\n",
    "booking_df.info()"
   ]
  },
  {
   "cell_type": "code",
   "execution_count": 16,
   "metadata": {},
   "outputs": [
    {
     "data": {
      "text/html": [
       "<div>\n",
       "<style scoped>\n",
       "    .dataframe tbody tr th:only-of-type {\n",
       "        vertical-align: middle;\n",
       "    }\n",
       "\n",
       "    .dataframe tbody tr th {\n",
       "        vertical-align: top;\n",
       "    }\n",
       "\n",
       "    .dataframe thead th {\n",
       "        text-align: right;\n",
       "    }\n",
       "</style>\n",
       "<table border=\"1\" class=\"dataframe\">\n",
       "  <thead>\n",
       "    <tr style=\"text-align: right;\">\n",
       "      <th></th>\n",
       "      <th>Property_BookingId</th>\n",
       "      <th>PB_TotalPrice</th>\n",
       "      <th>PB_NumNights</th>\n",
       "      <th>PB_BookingCreatedDate</th>\n",
       "      <th>PB_BookingChannelOriginId</th>\n",
       "    </tr>\n",
       "  </thead>\n",
       "  <tbody>\n",
       "    <tr>\n",
       "      <th>2228</th>\n",
       "      <td>109872</td>\n",
       "      <td>523.73</td>\n",
       "      <td>4</td>\n",
       "      <td>2022-10-27 14:10:44</td>\n",
       "      <td>7</td>\n",
       "    </tr>\n",
       "    <tr>\n",
       "      <th>3814</th>\n",
       "      <td>111221</td>\n",
       "      <td>309.89</td>\n",
       "      <td>3</td>\n",
       "      <td>2022-12-04 19:24:50</td>\n",
       "      <td>7</td>\n",
       "    </tr>\n",
       "    <tr>\n",
       "      <th>5974</th>\n",
       "      <td>110357</td>\n",
       "      <td>404.40</td>\n",
       "      <td>3</td>\n",
       "      <td>2022-11-09 17:45:03</td>\n",
       "      <td>7</td>\n",
       "    </tr>\n",
       "    <tr>\n",
       "      <th>4073</th>\n",
       "      <td>108398</td>\n",
       "      <td>992.72</td>\n",
       "      <td>3</td>\n",
       "      <td>2022-09-22 18:13:12</td>\n",
       "      <td>7</td>\n",
       "    </tr>\n",
       "    <tr>\n",
       "      <th>2831</th>\n",
       "      <td>109005</td>\n",
       "      <td>255.60</td>\n",
       "      <td>2</td>\n",
       "      <td>2022-10-08 20:13:21</td>\n",
       "      <td>1</td>\n",
       "    </tr>\n",
       "  </tbody>\n",
       "</table>\n",
       "</div>"
      ],
      "text/plain": [
       "      Property_BookingId  PB_TotalPrice  PB_NumNights PB_BookingCreatedDate  \\\n",
       "2228              109872         523.73             4   2022-10-27 14:10:44   \n",
       "3814              111221         309.89             3   2022-12-04 19:24:50   \n",
       "5974              110357         404.40             3   2022-11-09 17:45:03   \n",
       "4073              108398         992.72             3   2022-09-22 18:13:12   \n",
       "2831              109005         255.60             2   2022-10-08 20:13:21   \n",
       "\n",
       "      PB_BookingChannelOriginId  \n",
       "2228                          7  \n",
       "3814                          7  \n",
       "5974                          7  \n",
       "4073                          7  \n",
       "2831                          1  "
      ]
     },
     "execution_count": 16,
     "metadata": {},
     "output_type": "execute_result"
    }
   ],
   "source": [
    "#Visualizamos la tabla Bookings\n",
    "booking_df.sample(5)"
   ]
  },
  {
   "cell_type": "markdown",
   "metadata": {},
   "source": [
    "- Son 5 columnas con 6160 registros.\n",
    "- Los formatos son correctos y no existen datos nulos en ninguna columna. \n",
    "- Se verificará duplicados en la columna Property_BookingId."
   ]
  },
  {
   "cell_type": "code",
   "execution_count": 17,
   "metadata": {},
   "outputs": [
    {
     "name": "stdout",
     "output_type": "stream",
     "text": [
      "No hay filas duplicadas en la tabla Bookings.\n"
     ]
    }
   ],
   "source": [
    "# Verificar duplicados en la tabla Bookings\n",
    "duplicates_in_bookings = booking_df[booking_df.duplicated(subset='Property_BookingId', keep=False)]\n",
    "\n",
    "# Imprimir las filas duplicadas (si existen)\n",
    "if not duplicates_in_bookings.empty:\n",
    "    print(\"Filas duplicadas en la tabla Bookings:\")\n",
    "    print(duplicates_in_bookings)\n",
    "else:\n",
    "    print(\"No hay filas duplicadas en la tabla Bookings.\")"
   ]
  },
  {
   "cell_type": "markdown",
   "metadata": {},
   "source": [
    "No es necesario realizar limpieza o transformaciones."
   ]
  },
  {
   "cell_type": "markdown",
   "metadata": {},
   "source": [
    "### **Cargamos los datos**"
   ]
  },
  {
   "cell_type": "code",
   "execution_count": null,
   "metadata": {},
   "outputs": [],
   "source": [
    "# Crear un escritor Excel (ExcelWriter)\n",
    "clean_data = pd.ExcelWriter('clean_data.xlsx', engine='xlsxwriter')\n",
    "\n",
    "# Guardar cada DataFrame en una pestaña diferente\n",
    "calendar_df.to_excel(clean_data, sheet_name='Calendar', index=False)\n",
    "properties_df.to_excel(clean_data, sheet_name='Properties', index=False)\n",
    "booking_df.to_excel(clean_data, sheet_name='Bookings', index=False)\n",
    "\n",
    "# Cerrar el escritor para finalizar el proceso de escritura\n",
    "clean_data.save()"
   ]
  }
 ],
 "metadata": {
  "kernelspec": {
   "display_name": "Python 3",
   "language": "python",
   "name": "python3"
  },
  "language_info": {
   "codemirror_mode": {
    "name": "ipython",
    "version": 3
   },
   "file_extension": ".py",
   "mimetype": "text/x-python",
   "name": "python",
   "nbconvert_exporter": "python",
   "pygments_lexer": "ipython3",
   "version": "3.10.7"
  }
 },
 "nbformat": 4,
 "nbformat_minor": 2
}
